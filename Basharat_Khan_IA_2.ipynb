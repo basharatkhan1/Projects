{
 "cells": [
  {
   "cell_type": "code",
   "execution_count": 1,
   "id": "84540812-0a07-4c06-b95d-d83dc43c10b9",
   "metadata": {},
   "outputs": [
    {
     "name": "stdout",
     "output_type": "stream",
     "text": [
      "The amount of money Joe paid for the stock is 90500.00\n",
      "The amount of commission Joe paid his broker when he bought the stock is 2262.50\n",
      "The amount for which Joe sold the stock is 97800.00\n",
      "The amount of commission Joe paid his broker when he sold the stock is 2445.00\n",
      "The amount of money that Joe had left when he sold the stock and paid his broker (both times) is 93092.50\n",
      "Joe made a profit of 2592.50\n"
     ]
    }
   ],
   "source": [
    "\n",
    "# Last month, Joe purchased some stock in Acme Software, Inc. Here are the details of the purchase:\n",
    "# The number of shares that Joe purchased was 2,000.\n",
    "# When Joe purchased the stock, he paid $45.25 per share.\n",
    "# Joe paid his stockbroker a commission that amounted to 2.5 percent of the amount he paid for the stock.\n",
    "# Two weeks later, Joe sold the stock. Here are the details of the sale:\n",
    "# The number of shares that Joe sold was 2,000.\n",
    "# He sold the stock for $48.90 per share.\n",
    "# He paid his stockbroker another commission that amounted to 2.5 percent of the amount he received for the stock.\n",
    "# Write a program that displays the following information:\n",
    "# The amount of money Joe paid for the stock.\n",
    "# The amount of commission Joe paid his broker when he bought the stock.\n",
    "# The amount for which Joe sold the stock.\n",
    "# The amount of commission Joe paid his broker when he sold the stock.\n",
    "# Display the amount of money that Joe had left when he sold the stock and paid his broker (both times). \n",
    "# If this amount is positive, then Joe made a profit. If the amount is negative, then Joe lost money.\n",
    "\n",
    "\n",
    "# Joe purchased 2000 shares of a stock and paid $45.25 per share.\n",
    "# In order to calculate how much he paid in total for the stock \n",
    "# We multiply the the number of shares he bought (2000) by the price he paid for each share(45.25)\n",
    "# We delcare the number of shares, the buy price, the sell price and the broker commission percentage.\n",
    "\n",
    "# We are declaring the number of shares.\n",
    "num_of_shares = 2000\n",
    "\n",
    "# We are declaring the buy price of the stock.\n",
    "buy_price = 45.25\n",
    "\n",
    "# We are declaring the sell price\n",
    "sell_price = 48.90\n",
    "\n",
    "# We are declaring the broker commission percentage\n",
    "broker_commission_percent = 0.025\n",
    "\n",
    "# We are declaring the total buy price\n",
    "total_buy = num_of_shares * buy_price\n",
    "\n",
    "# We are declaring the total sell price\n",
    "total_sell = num_of_shares * sell_price\n",
    "\n",
    "# We are declaring the commission paid on the buy\n",
    "commission_on_buy = total_buy * broker_commission_percent\n",
    "\n",
    "# We are declaring the commission paid on the sell\n",
    "commission_on_sell = total_sell * broker_commission_percent\n",
    "\n",
    "# We are declaring the money left over after selling the stocks and paying the broker both times\n",
    "money_left_over = total_sell - commission_on_buy - commission_on_sell\n",
    "\n",
    "# We are declaring the profit made on this trade\n",
    "profit = money_left_over - total_buy\n",
    "\n",
    "# Print the amount of money Joe paid for the stock\n",
    "print(f\"The amount of money Joe paid for the stock is {total_buy:.2f}\")\n",
    "\n",
    "# Print the amount of commission Joe paid his broker when he bought the stock\n",
    "print(f\"The amount of commission Joe paid his broker when he bought the stock is {commission_on_buy:.2f}\")\n",
    "\n",
    "# Print the amount for which Joe sold the stock\n",
    "print(f\"The amount for which Joe sold the stock is {total_sell:.2f}\")\n",
    "\n",
    "# Print the amount of commission Joe paid his broker when he sold the stock\n",
    "print(f\"The amount of commission Joe paid his broker when he sold the stock is {commission_on_sell:.2f}\")\n",
    "\n",
    "# Print the amount of money that Joe had left when he sold the stock and paid his broker (both times)\n",
    "print(f\"The amount of money that Joe had left when he sold the stock and paid his broker (both times) is {money_left_over:.2f}\")\n",
    "\n",
    "# Print the profit made on this trade\n",
    "print(f\"Joe made a profit of {profit:.2f}\")"
   ]
  },
  {
   "cell_type": "code",
   "execution_count": null,
   "id": "ed7161b6-5ea7-4f13-9094-723b5ff4e678",
   "metadata": {},
   "outputs": [],
   "source": []
  },
  {
   "cell_type": "code",
   "execution_count": null,
   "id": "5625228b-6040-406a-9e65-6ba03c8f3256",
   "metadata": {},
   "outputs": [],
   "source": []
  }
 ],
 "metadata": {
  "kernelspec": {
   "display_name": "anaconda-panel-2023.05-py310",
   "language": "python",
   "name": "conda-env-anaconda-panel-2023.05-py310-py"
  },
  "language_info": {
   "codemirror_mode": {
    "name": "ipython",
    "version": 3
   },
   "file_extension": ".py",
   "mimetype": "text/x-python",
   "name": "python",
   "nbconvert_exporter": "python",
   "pygments_lexer": "ipython3",
   "version": "3.11.4"
  }
 },
 "nbformat": 4,
 "nbformat_minor": 5
}
