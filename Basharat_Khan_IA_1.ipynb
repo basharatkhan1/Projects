{
 "cells": [
  {
   "cell_type": "code",
   "execution_count": null,
   "id": "9565f247-859d-4821-a81a-e482d4ebd256",
   "metadata": {},
   "outputs": [],
   "source": [
    "'''Problem:\n",
    "Sales Prediction\n",
    "A company has determined that its annual profit is typically 23 percent of total sales. Write a program that asks the user to enter the projected amount of total sales, and then displays the profit that will be made from that amount.\n",
    "Hint: Use the value 0.23 to represent 23 percent.\n",
    "_______________________________________________________________________________________________________________________________________________________________________________________\n",
    "The statements followed by the symbol # indicate comments. They are not interpreted by Python.\n",
    "Comments are notes of explanation that document lines or sections of a program. Comments are part of the program, but the Python interpreter ignores them. They are intended for people who may be reading the source code.\n",
    "In your assignments, you should explain what you are doing in each logical step as can be seen in the example below.\n",
    "You don't need to make lots of explanations but should display you understand what you are doing.\n",
    "_______________________________________________________________________________________________________________________________________________________________________________________\n",
    "Solution (Must be a Jupyter Notebook file.)\n",
    "You will work on the Anaconda Cloud website. You should download the file, and submit it on Blackboard. You must insert # for comments.\n",
    "# Step 1: Ask the user for the projected amount of total sales.\n",
    "# Using the input() function to get the total sales amount from the user.\n",
    "# We convert the input (which is by default a string) to a float since sales amounts can have decimal values.\n",
    "total_sales = float(input(\"Please enter the projected amount of total sales: \"))\n",
    "# Step 2: Calculate the profit based on the given percentage.\n",
    "# Given that the annual profit is 23% of total sales,\n",
    "# we multiply the total sales by 0.23 to get the profit.\n",
    "profit = total_sales * 0.23\n",
    "# Step 3: Display the calculated profit.\n",
    "# Using the print() function to display the calculated profit.\n",
    "# We use formatted string (f-string) to include the calculated value within a message.\n",
    "print (\"The projected profit is \", format(profit, '.2f'))'''\n",
    "\n",
    "total_sales = float(input(\"Please enter the projected amount of total sales: \"))\n",
    "profit = total_sales * 0.23\n",
    "print (\"The projected profit is \", format(profit, '.2f'))\n",
    "\n",
    "'''Individual Assignment - 1 is due on Sunday, September 17, 2023, at 11:59 pm.\n",
    "You have unlimited attempts to submit the assignment. I will grade the last attempt.\n",
    "There are two problems in this assignment. Write the codes in one file starting from Problem 1. Use a comment to indicate \"Problem 1\" and \"Problem 2\".\n",
    "# Problem 1\n",
    "You should have your comments and the code for Problem 1.\n",
    "# Problem 2\n",
    "You should have your comments and the code for Problem 2.\n",
    "Before submitting, run the code to see if it works properly.\n",
    "After you are done with the problems, on Anaconda Cloud, download your file with \"yourName_yourLastName_IA_1\" (Example: Abdullah_Oguz_IA_1). Submit this file here on Blackboard.\n",
    "Problem 1 (15 points):\n",
    "A manufacturing company has determined that the cost of producing each unit of its product is typically 15 percent of its selling price. Write a program that:\n",
    "Asks the user to enter the projected selling price of a single unit.\n",
    "Calculates the cost to produce that unit based on the given percentage.\n",
    "Displays the production cost for that unit.\n",
    "Problem 2 (25 points):\n",
    "Imagine you're on a road trip. You know the distance you need to travel and the average speed of your car. However, during your journey, there might be unexpected delays due to various reasons like accidents or road work.\n",
    "The distance formula: Distance = Speed * Time\n",
    "Your task is to write a Python program that:\n",
    "Asks for the distance the car will travel (in miles).\n",
    "Asks for the average speed of the car (in miles per hour).\n",
    "Asks for the total expected delay time (in hours).\n",
    "Calculates the total time it would take for the journey, including the delay.\n",
    "Prints the total travel time.\n",
    "Important Instructions for Both Problems:\n",
    "For every logical step you take in your program, include a comment explaining why you did it. If you don't include the comments, you will lose points.\n",
    "You must not use the 'def', 'if', or 'while' constructs in your solution. You have not learned them yet.'''"
   ]
  },
  {
   "cell_type": "code",
   "execution_count": 25,
   "id": "c7b60d7c-ca95-4a06-a16d-3db1228f9278",
   "metadata": {},
   "outputs": [
    {
     "name": "stdin",
     "output_type": "stream",
     "text": [
      "Please enter the projected selling price:  100\n"
     ]
    },
    {
     "name": "stdout",
     "output_type": "stream",
     "text": [
      "The production cost will be $ 15.00\n"
     ]
    }
   ],
   "source": [
    "'''\n",
    "Problem 1\n",
    "A manufacturing company has determined that the cost of producing each unit of its product is typically 15 percent of its selling price. Write a program that:\n",
    "Asks the user to enter the projected selling price of a single unit.\n",
    "Calculates the cost to produce that unit based on the given percentage.\n",
    "Displays the production cost for that unit.\n",
    "'''\n",
    "\n",
    "#Step 1\n",
    "# Ask the user for the projected selling price.\n",
    "# Using the input() function to get the projected selling price from the user.\n",
    "projected_selling_price = float(input(\"Please enter the projected selling price: \"))\n",
    "# Step 2\n",
    "#Calculate the cost of producing each unit.\n",
    "# Given that the cost of production is typically 15 percent.\n",
    "# We multiply the projected selling price by .15 to get the cost of production.\n",
    "production_cost = projected_selling_price*.15\n",
    "#Step 3\n",
    "# Display the production cost for the unit\n",
    "# Using the print() function to display the calculated production cost.\n",
    "# We use formatted string (f-string) to include the calculated value within a message.\n",
    "print(\"The production cost will be $\",format(production_cost,'.2f'))"
   ]
  },
  {
   "cell_type": "code",
   "execution_count": null,
   "id": "712985a2-2d61-49e6-a990-b74165149ec0",
   "metadata": {},
   "outputs": [
    {
     "name": "stdin",
     "output_type": "stream",
     "text": [
      "Please enter the distance you will travel (in miles):  100\n"
     ]
    }
   ],
   "source": [
    "'''\n",
    "Problem 2 (25 points):\n",
    "Imagine you're on a road trip. You know the distance you need to travel and the average speed of your car. \n",
    "However, during your journey, there might be unexpected delays due to various reasons like accidents or road work.\n",
    "The distance formula: Distance = Speed * Time\n",
    "Your task is to write a Python program that:\n",
    "Asks for the distance the car will travel (in miles).\n",
    "Asks for the average speed of the car (in miles per hour).\n",
    "Asks for the total expected delay time (in hours).\n",
    "Calculates the total time it would take for the journey, including the delay.\n",
    "Prints the total travel time.\n",
    "'''\n",
    "\n",
    "#Step 1\n",
    "# Ask the user for the distance the car will travel in miles.\n",
    "# Using the input() function to get distance in miles the car will travel.\n",
    "distance = float(input(\"Please enter the distance you will travel (in miles): \"))\n",
    "\n",
    "# Step 2\n",
    "# Ask the user the average speed of the car (in miles per hour)\n",
    "# Using the input() function to get average speed the car will travel (in miles per hour).\n",
    "average_speed = float(input(\"Please enter the average speed the car will travel (in miles per hour): \"))\n",
    "\n",
    "# Step 3\n",
    "# Ask the user for the total expected delay time (in hours)\n",
    "# Using the input() function to get the total expected delay time (in hours)\n",
    "total_delay_time = float(input(\"Please enter the total expected delay time (in hours): \"))\n",
    "\n",
    "# Step 4\n",
    "# Calculate the total time it would take for the journey, including the delay.\n",
    "# We take the distance formula to calculate the time it takes for the journey.\n",
    "# Time = Distance/Speed, and we then add in the additional delay time.\n",
    "total_travel_time = ((distance/average_speed) + total_delay_time)\n",
    "\n",
    "# Step 5\n",
    "# Print the total Travel time.\n",
    "# We use the print() function to print the total travel time.\n",
    "print(\"The total travel time including the additional delay will be\", format(total_travel_time,'.2f'))\n",
    "\n"
   ]
  },
  {
   "cell_type": "code",
   "execution_count": null,
   "id": "253bad18-a6ed-49db-985f-6d015ce20afb",
   "metadata": {},
   "outputs": [],
   "source": []
  }
 ],
 "metadata": {
  "kernelspec": {
   "display_name": "anaconda-panel-2023.05-py310",
   "language": "python",
   "name": "conda-env-anaconda-panel-2023.05-py310-py"
  },
  "language_info": {
   "codemirror_mode": {
    "name": "ipython",
    "version": 3
   },
   "file_extension": ".py",
   "mimetype": "text/x-python",
   "name": "python",
   "nbconvert_exporter": "python",
   "pygments_lexer": "ipython3",
   "version": "3.11.4"
  }
 },
 "nbformat": 4,
 "nbformat_minor": 5
}
